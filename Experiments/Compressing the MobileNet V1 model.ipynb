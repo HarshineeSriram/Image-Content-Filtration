{
 "cells": [
  {
   "cell_type": "code",
   "execution_count": 1,
   "metadata": {},
   "outputs": [
    {
     "data": {
      "text/plain": [
       "'physical_devices = tf.config.experimental.list_physical_devices(\\'GPU\\')\\nassert len(physical_devices) > 0, \"Not enough GPU hardware devices available\"\\nconfig = tf.config.experimental.set_memory_growth(physical_devices[0], True)'"
      ]
     },
     "execution_count": 1,
     "metadata": {},
     "output_type": "execute_result"
    }
   ],
   "source": [
    "import numpy as np\n",
    "import os\n",
    "import keras\n",
    "import tempfile\n",
    "import tensorflow as tf\n",
    "from tensorflow.keras.models import load_model\n",
    "from keras.preprocessing.image import ImageDataGenerator\n",
    "from keras.applications.mobilenet import preprocess_input\n",
    "from tensorflow_model_optimization.sparsity import keras as sparsity\n",
    "\n",
    "\"\"\"physical_devices = tf.config.experimental.list_physical_devices('GPU')\n",
    "assert len(physical_devices) > 0, \"Not enough GPU hardware devices available\"\n",
    "config = tf.config.experimental.set_memory_growth(physical_devices[0], True)\"\"\""
   ]
  },
  {
   "cell_type": "code",
   "execution_count": 2,
   "metadata": {},
   "outputs": [],
   "source": [
    "model = tf.keras.models.load_model('finalmodel.h5')"
   ]
  },
  {
   "cell_type": "code",
   "execution_count": 3,
   "metadata": {},
   "outputs": [
    {
     "name": "stdout",
     "output_type": "stream",
     "text": [
      "Found 6394 images belonging to 2 classes.\n",
      "Found 2137 images belonging to 2 classes.\n"
     ]
    }
   ],
   "source": [
    "nsfw_images = [fn for fn in os.listdir(r'D:\\Data\\Train\\NSFW') if fn.endswith('.jpg')]\n",
    "sfw_images = [fn for fn in os.listdir(r'D:\\Data\\Train\\SFW') if fn.endswith('.jpg')]\n",
    "train_dir = r'D:\\Data\\Train'\n",
    "validation_dir = r'D:\\Data\\Validation'\n",
    "\n",
    "\"\"\"def prepare_image(file):\n",
    "    img_path = ''\n",
    "    img = image.load_img(img_path + file, target_size=(224, 224))\n",
    "    img_array = image.img_to_array(img)\n",
    "    img_array_expanded_dims = np.expand_dims(img_array, axis=0)\n",
    "    return keras.applications.mobilenet.preprocess_input(img_array_expanded_dims)\"\"\"\n",
    "\n",
    "train_datagen=ImageDataGenerator(preprocessing_function=preprocess_input) #included in our dependencies\n",
    "\n",
    "train_generator=train_datagen.flow_from_directory(train_dir,\n",
    "                                                 target_size=(224,224),\n",
    "                                                 color_mode='rgb',\n",
    "                                                 batch_size=30,\n",
    "                                                 class_mode='categorical',\n",
    "                                                 shuffle=True)\n",
    "\n",
    "test_datagen = ImageDataGenerator(preprocessing_function=preprocess_input)\n",
    "\n",
    "validation_generator =test_datagen.flow_from_directory( validation_dir,\n",
    "                                                          batch_size  = 30,\n",
    "                                                          color_mode='rgb',\n",
    "                                                          class_mode  = 'categorical', \n",
    "                                                          target_size = (224, 224),\n",
    "                                                          shuffle=True)"
   ]
  },
  {
   "cell_type": "code",
   "execution_count": 4,
   "metadata": {},
   "outputs": [
    {
     "name": "stdout",
     "output_type": "stream",
     "text": [
      "1070\n"
     ]
    }
   ],
   "source": [
    "epochs = 5\n",
    "end_step = np.ceil(1.0 * 6394 / 30).astype(np.int32) * epochs\n",
    "print(end_step)"
   ]
  },
  {
   "cell_type": "code",
   "execution_count": 5,
   "metadata": {},
   "outputs": [
    {
     "name": "stdout",
     "output_type": "stream",
     "text": [
      "WARNING:tensorflow:From C:\\Users\\Harshinee Sriram\\anaconda3\\lib\\site-packages\\tensorflow_model_optimization\\python\\core\\sparsity\\keras\\pruning_wrapper.py:215: Layer.add_variable (from tensorflow.python.keras.engine.base_layer) is deprecated and will be removed in a future version.\n",
      "Instructions for updating:\n",
      "Please use `layer.add_weight` method instead.\n",
      "Model: \"functional_1\"\n",
      "_________________________________________________________________\n",
      "Layer (type)                 Output Shape              Param #   \n",
      "=================================================================\n",
      "input_2 (InputLayer)         [(None, 224, 224, 3)]     0         \n",
      "_________________________________________________________________\n",
      "prune_low_magnitude_conv1_pa (None, 225, 225, 3)       1         \n",
      "_________________________________________________________________\n",
      "prune_low_magnitude_conv1 (P (None, 112, 112, 32)      1730      \n",
      "_________________________________________________________________\n",
      "prune_low_magnitude_conv1_bn (None, 112, 112, 32)      129       \n",
      "_________________________________________________________________\n",
      "prune_low_magnitude_conv1_re (None, 112, 112, 32)      1         \n",
      "_________________________________________________________________\n",
      "prune_low_magnitude_conv_dw_ (None, 112, 112, 32)      289       \n",
      "_________________________________________________________________\n",
      "prune_low_magnitude_conv_dw_ (None, 112, 112, 32)      129       \n",
      "_________________________________________________________________\n",
      "prune_low_magnitude_conv_dw_ (None, 112, 112, 32)      1         \n",
      "_________________________________________________________________\n",
      "prune_low_magnitude_conv_pw_ (None, 112, 112, 64)      4098      \n",
      "_________________________________________________________________\n",
      "prune_low_magnitude_conv_pw_ (None, 112, 112, 64)      257       \n",
      "_________________________________________________________________\n",
      "prune_low_magnitude_conv_pw_ (None, 112, 112, 64)      1         \n",
      "_________________________________________________________________\n",
      "prune_low_magnitude_conv_pad (None, 113, 113, 64)      1         \n",
      "_________________________________________________________________\n",
      "prune_low_magnitude_conv_dw_ (None, 56, 56, 64)        577       \n",
      "_________________________________________________________________\n",
      "prune_low_magnitude_conv_dw_ (None, 56, 56, 64)        257       \n",
      "_________________________________________________________________\n",
      "prune_low_magnitude_conv_dw_ (None, 56, 56, 64)        1         \n",
      "_________________________________________________________________\n",
      "prune_low_magnitude_conv_pw_ (None, 56, 56, 128)       16386     \n",
      "_________________________________________________________________\n",
      "prune_low_magnitude_conv_pw_ (None, 56, 56, 128)       513       \n",
      "_________________________________________________________________\n",
      "prune_low_magnitude_conv_pw_ (None, 56, 56, 128)       1         \n",
      "_________________________________________________________________\n",
      "prune_low_magnitude_conv_dw_ (None, 56, 56, 128)       1153      \n",
      "_________________________________________________________________\n",
      "prune_low_magnitude_conv_dw_ (None, 56, 56, 128)       513       \n",
      "_________________________________________________________________\n",
      "prune_low_magnitude_conv_dw_ (None, 56, 56, 128)       1         \n",
      "_________________________________________________________________\n",
      "prune_low_magnitude_conv_pw_ (None, 56, 56, 128)       32770     \n",
      "_________________________________________________________________\n",
      "prune_low_magnitude_conv_pw_ (None, 56, 56, 128)       513       \n",
      "_________________________________________________________________\n",
      "prune_low_magnitude_conv_pw_ (None, 56, 56, 128)       1         \n",
      "_________________________________________________________________\n",
      "prune_low_magnitude_conv_pad (None, 57, 57, 128)       1         \n",
      "_________________________________________________________________\n",
      "prune_low_magnitude_conv_dw_ (None, 28, 28, 128)       1153      \n",
      "_________________________________________________________________\n",
      "prune_low_magnitude_conv_dw_ (None, 28, 28, 128)       513       \n",
      "_________________________________________________________________\n",
      "prune_low_magnitude_conv_dw_ (None, 28, 28, 128)       1         \n",
      "_________________________________________________________________\n",
      "prune_low_magnitude_conv_pw_ (None, 28, 28, 256)       65538     \n",
      "_________________________________________________________________\n",
      "prune_low_magnitude_conv_pw_ (None, 28, 28, 256)       1025      \n",
      "_________________________________________________________________\n",
      "prune_low_magnitude_conv_pw_ (None, 28, 28, 256)       1         \n",
      "_________________________________________________________________\n",
      "prune_low_magnitude_conv_dw_ (None, 28, 28, 256)       2305      \n",
      "_________________________________________________________________\n",
      "prune_low_magnitude_conv_dw_ (None, 28, 28, 256)       1025      \n",
      "_________________________________________________________________\n",
      "prune_low_magnitude_conv_dw_ (None, 28, 28, 256)       1         \n",
      "_________________________________________________________________\n",
      "prune_low_magnitude_conv_pw_ (None, 28, 28, 256)       131074    \n",
      "_________________________________________________________________\n",
      "prune_low_magnitude_conv_pw_ (None, 28, 28, 256)       1025      \n",
      "_________________________________________________________________\n",
      "prune_low_magnitude_conv_pw_ (None, 28, 28, 256)       1         \n",
      "_________________________________________________________________\n",
      "prune_low_magnitude_conv_pad (None, 29, 29, 256)       1         \n",
      "_________________________________________________________________\n",
      "prune_low_magnitude_conv_dw_ (None, 14, 14, 256)       2305      \n",
      "_________________________________________________________________\n",
      "prune_low_magnitude_conv_dw_ (None, 14, 14, 256)       1025      \n",
      "_________________________________________________________________\n",
      "prune_low_magnitude_conv_dw_ (None, 14, 14, 256)       1         \n",
      "_________________________________________________________________\n",
      "prune_low_magnitude_conv_pw_ (None, 14, 14, 512)       262146    \n",
      "_________________________________________________________________\n",
      "prune_low_magnitude_conv_pw_ (None, 14, 14, 512)       2049      \n",
      "_________________________________________________________________\n",
      "prune_low_magnitude_conv_pw_ (None, 14, 14, 512)       1         \n",
      "_________________________________________________________________\n",
      "prune_low_magnitude_conv_dw_ (None, 14, 14, 512)       4609      \n",
      "_________________________________________________________________\n",
      "prune_low_magnitude_conv_dw_ (None, 14, 14, 512)       2049      \n",
      "_________________________________________________________________\n",
      "prune_low_magnitude_conv_dw_ (None, 14, 14, 512)       1         \n",
      "_________________________________________________________________\n",
      "prune_low_magnitude_conv_pw_ (None, 14, 14, 512)       524290    \n",
      "_________________________________________________________________\n",
      "prune_low_magnitude_conv_pw_ (None, 14, 14, 512)       2049      \n",
      "_________________________________________________________________\n",
      "prune_low_magnitude_conv_pw_ (None, 14, 14, 512)       1         \n",
      "_________________________________________________________________\n",
      "prune_low_magnitude_conv_dw_ (None, 14, 14, 512)       4609      \n",
      "_________________________________________________________________\n",
      "prune_low_magnitude_conv_dw_ (None, 14, 14, 512)       2049      \n",
      "_________________________________________________________________\n",
      "prune_low_magnitude_conv_dw_ (None, 14, 14, 512)       1         \n",
      "_________________________________________________________________\n",
      "prune_low_magnitude_conv_pw_ (None, 14, 14, 512)       524290    \n",
      "_________________________________________________________________\n",
      "prune_low_magnitude_conv_pw_ (None, 14, 14, 512)       2049      \n",
      "_________________________________________________________________\n",
      "prune_low_magnitude_conv_pw_ (None, 14, 14, 512)       1         \n",
      "_________________________________________________________________\n",
      "prune_low_magnitude_conv_dw_ (None, 14, 14, 512)       4609      \n",
      "_________________________________________________________________\n",
      "prune_low_magnitude_conv_dw_ (None, 14, 14, 512)       2049      \n",
      "_________________________________________________________________\n",
      "prune_low_magnitude_conv_dw_ (None, 14, 14, 512)       1         \n",
      "_________________________________________________________________\n",
      "prune_low_magnitude_conv_pw_ (None, 14, 14, 512)       524290    \n",
      "_________________________________________________________________\n",
      "prune_low_magnitude_conv_pw_ (None, 14, 14, 512)       2049      \n",
      "_________________________________________________________________\n",
      "prune_low_magnitude_conv_pw_ (None, 14, 14, 512)       1         \n",
      "_________________________________________________________________\n",
      "prune_low_magnitude_conv_dw_ (None, 14, 14, 512)       4609      \n",
      "_________________________________________________________________\n",
      "prune_low_magnitude_conv_dw_ (None, 14, 14, 512)       2049      \n",
      "_________________________________________________________________\n",
      "prune_low_magnitude_conv_dw_ (None, 14, 14, 512)       1         \n",
      "_________________________________________________________________\n",
      "prune_low_magnitude_conv_pw_ (None, 14, 14, 512)       524290    \n",
      "_________________________________________________________________\n",
      "prune_low_magnitude_conv_pw_ (None, 14, 14, 512)       2049      \n",
      "_________________________________________________________________\n",
      "prune_low_magnitude_conv_pw_ (None, 14, 14, 512)       1         \n",
      "_________________________________________________________________\n",
      "prune_low_magnitude_conv_dw_ (None, 14, 14, 512)       4609      \n",
      "_________________________________________________________________\n",
      "prune_low_magnitude_conv_dw_ (None, 14, 14, 512)       2049      \n",
      "_________________________________________________________________\n",
      "prune_low_magnitude_conv_dw_ (None, 14, 14, 512)       1         \n",
      "_________________________________________________________________\n",
      "prune_low_magnitude_conv_pw_ (None, 14, 14, 512)       524290    \n",
      "_________________________________________________________________\n",
      "prune_low_magnitude_conv_pw_ (None, 14, 14, 512)       2049      \n",
      "_________________________________________________________________\n",
      "prune_low_magnitude_conv_pw_ (None, 14, 14, 512)       1         \n",
      "_________________________________________________________________\n",
      "prune_low_magnitude_conv_pad (None, 15, 15, 512)       1         \n",
      "_________________________________________________________________\n",
      "prune_low_magnitude_conv_dw_ (None, 7, 7, 512)         4609      \n",
      "_________________________________________________________________\n",
      "prune_low_magnitude_conv_dw_ (None, 7, 7, 512)         2049      \n",
      "_________________________________________________________________\n",
      "prune_low_magnitude_conv_dw_ (None, 7, 7, 512)         1         \n",
      "_________________________________________________________________\n",
      "prune_low_magnitude_conv_pw_ (None, 7, 7, 1024)        1048578   \n",
      "_________________________________________________________________\n",
      "prune_low_magnitude_conv_pw_ (None, 7, 7, 1024)        4097      \n",
      "_________________________________________________________________\n",
      "prune_low_magnitude_conv_pw_ (None, 7, 7, 1024)        1         \n",
      "_________________________________________________________________\n",
      "prune_low_magnitude_conv_dw_ (None, 7, 7, 1024)        9217      \n",
      "_________________________________________________________________\n",
      "prune_low_magnitude_conv_dw_ (None, 7, 7, 1024)        4097      \n",
      "_________________________________________________________________\n",
      "prune_low_magnitude_conv_dw_ (None, 7, 7, 1024)        1         \n",
      "_________________________________________________________________\n",
      "prune_low_magnitude_conv_pw_ (None, 7, 7, 1024)        2097154   \n",
      "_________________________________________________________________\n",
      "prune_low_magnitude_conv_pw_ (None, 7, 7, 1024)        4097      \n",
      "_________________________________________________________________\n",
      "prune_low_magnitude_conv_pw_ (None, 7, 7, 1024)        1         \n",
      "_________________________________________________________________\n",
      "prune_low_magnitude_global_a (None, 1024)              1         \n",
      "_________________________________________________________________\n",
      "prune_low_magnitude_dense (P (None, 1024)              2098178   \n",
      "_________________________________________________________________\n",
      "prune_low_magnitude_dense_1  (None, 1024)              2098178   \n",
      "_________________________________________________________________\n",
      "prune_low_magnitude_dense_2  (None, 512)               1049090   \n",
      "_________________________________________________________________\n",
      "prune_low_magnitude_dense_3  (None, 2)                 2052      \n",
      "=================================================================\n",
      "Total params: 11,616,911\n",
      "Trainable params: 5,817,986\n",
      "Non-trainable params: 5,798,925\n",
      "_________________________________________________________________\n"
     ]
    }
   ],
   "source": [
    "new_pruning_parameters = {\n",
    "    'pruning_schedule': sparsity.PolynomialDecay(initial_sparsity=0.50,\n",
    "                                                final_sparsity=0.90,\n",
    "                                                begin_step=0,\n",
    "                                                end_step=end_step,\n",
    "                                                frequency=100)\n",
    "}\n",
    "\n",
    "new_pruned_model = sparsity.prune_low_magnitude(model, **new_pruning_parameters)\n",
    "new_pruned_model.summary()"
   ]
  },
  {
   "cell_type": "code",
   "execution_count": 6,
   "metadata": {},
   "outputs": [],
   "source": [
    "new_pruned_model.compile(\n",
    "    loss = tf.keras.losses.categorical_crossentropy,\n",
    "    optimizer=tf.keras.optimizers.Adam(learning_rate=0.00000001),\n",
    "    metrics=['accuracy']\n",
    ")"
   ]
  },
  {
   "cell_type": "code",
   "execution_count": 7,
   "metadata": {},
   "outputs": [
    {
     "name": "stdout",
     "output_type": "stream",
     "text": [
      "Epoch 1/5\n",
      "184/213 [========================>.....] - ETA: 40s - loss: 0.1081 - accuracy: 0.9589"
     ]
    },
    {
     "name": "stderr",
     "output_type": "stream",
     "text": [
      "C:\\Users\\Harshinee Sriram\\anaconda3\\lib\\site-packages\\PIL\\Image.py:2832: DecompressionBombWarning: Image size (147659204 pixels) exceeds limit of 89478485 pixels, could be decompression bomb DOS attack.\n",
      "  warnings.warn(\n"
     ]
    },
    {
     "name": "stdout",
     "output_type": "stream",
     "text": [
      "213/213 [==============================] - 393s 2s/step - loss: 0.1159 - accuracy: 0.9554 - val_loss: 1.9695 - val_accuracy: 0.4906\n",
      "Epoch 2/5\n",
      "213/213 [==============================] - 391s 2s/step - loss: 0.1553 - accuracy: 0.9408 - val_loss: 2.7471 - val_accuracy: 0.4906\n",
      "Epoch 3/5\n",
      "213/213 [==============================] - 382s 2s/step - loss: 0.4776 - accuracy: 0.8363 - val_loss: 0.9211 - val_accuracy: 0.4901\n",
      "Epoch 4/5\n",
      "213/213 [==============================] - 381s 2s/step - loss: 0.4672 - accuracy: 0.7382 - val_loss: 1.9607 - val_accuracy: 0.4906\n",
      "Epoch 5/5\n",
      "213/213 [==============================] - 380s 2s/step - loss: 0.2506 - accuracy: 0.8982 - val_loss: 0.3354 - val_accuracy: 0.8596\n"
     ]
    },
    {
     "data": {
      "text/plain": [
       "<tensorflow.python.keras.callbacks.History at 0x239312cbe50>"
      ]
     },
     "execution_count": 7,
     "metadata": {},
     "output_type": "execute_result"
    }
   ],
   "source": [
    "callback_early_stopping = tf.keras.callbacks.EarlyStopping(monitor='val_loss', patience=2)\n",
    "callback_reduce_lr = tf.keras.callbacks.ReduceLROnPlateau(monitor='val_loss', factor=0.2, patience=2, \n",
    "                                                          min_lr=0.00000001, cooldown=1)\n",
    "\n",
    "logdir = tempfile.mkdtemp()\n",
    "\n",
    "callbacks = [\n",
    "    sparsity.UpdatePruningStep(),\n",
    "    sparsity.PruningSummaries(log_dir=logdir, profile_batch=0),\n",
    "    callback_early_stopping,\n",
    "    callback_reduce_lr\n",
    "]\n",
    "\n",
    "new_pruned_model.fit(train_generator, \n",
    "                    validation_data=validation_generator,\n",
    "                    steps_per_epoch=int(6394/30),\n",
    "                    validation_steps=int(2137/30),\n",
    "                    epochs = epochs,\n",
    "                    callbacks = callbacks)"
   ]
  },
  {
   "cell_type": "code",
   "execution_count": 8,
   "metadata": {},
   "outputs": [
    {
     "data": {
      "text/plain": [
       "'final_model = sparsity.strip_pruning(new_pruned_model)\\nfinal_model.summary()'"
      ]
     },
     "execution_count": 8,
     "metadata": {},
     "output_type": "execute_result"
    }
   ],
   "source": [
    "\"\"\"final_model = sparsity.strip_pruning(new_pruned_model)\n",
    "final_model.summary()\"\"\""
   ]
  },
  {
   "cell_type": "code",
   "execution_count": 9,
   "metadata": {},
   "outputs": [
    {
     "data": {
      "text/plain": [
       "'final_model.save(\\'compressed.h5\\')\\nmodel = load_model(\\'compressed.h5\\')\\nfor i, w in enumerate(model.get_weights()):\\n    print(\\n        \"{} -- Total:{}, Zeros: {:.2f}%\".format(\\n            model.weights[i].name, w.size, np.sum(w == 0) / w.size * 100\\n        )\\n    )'"
      ]
     },
     "execution_count": 9,
     "metadata": {},
     "output_type": "execute_result"
    }
   ],
   "source": [
    "\"\"\"final_model.save('compressed.h5')\n",
    "model = load_model('compressed.h5')\n",
    "for i, w in enumerate(model.get_weights()):\n",
    "    print(\n",
    "        \"{} -- Total:{}, Zeros: {:.2f}%\".format(\n",
    "            model.weights[i].name, w.size, np.sum(w == 0) / w.size * 100\n",
    "        )\n",
    "    )\"\"\""
   ]
  },
  {
   "cell_type": "code",
   "execution_count": null,
   "metadata": {},
   "outputs": [],
   "source": []
  }
 ],
 "metadata": {
  "kernelspec": {
   "display_name": "Python 3",
   "language": "python",
   "name": "python3"
  },
  "language_info": {
   "codemirror_mode": {
    "name": "ipython",
    "version": 3
   },
   "file_extension": ".py",
   "mimetype": "text/x-python",
   "name": "python",
   "nbconvert_exporter": "python",
   "pygments_lexer": "ipython3",
   "version": "3.8.3"
  }
 },
 "nbformat": 4,
 "nbformat_minor": 4
}
